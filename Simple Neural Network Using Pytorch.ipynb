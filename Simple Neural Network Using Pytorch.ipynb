{
 "cells": [
  {
   "cell_type": "code",
   "execution_count": 1,
   "id": "449789cd",
   "metadata": {},
   "outputs": [],
   "source": [
    "import torch\n",
    "import torch.nn as nn\n",
    "import torchvision\n",
    "import torchvision.transforms as transforms"
   ]
  },
  {
   "cell_type": "code",
   "execution_count": 2,
   "id": "bddf63ff",
   "metadata": {},
   "outputs": [],
   "source": [
    "from torch.utils.data import TensorDataset, DataLoader"
   ]
  },
  {
   "cell_type": "code",
   "execution_count": 3,
   "id": "f942292f",
   "metadata": {},
   "outputs": [],
   "source": [
    "import numpy as np"
   ]
  },
  {
   "cell_type": "code",
   "execution_count": 7,
   "id": "60fac3df",
   "metadata": {},
   "outputs": [],
   "source": [
    "X_train = np.loadtxt(\"train_X.csv\" , delimiter = \",\")\n",
    "Y_train = np.loadtxt(\"train_label.csv\" , delimiter = \",\")"
   ]
  },
  {
   "cell_type": "code",
   "execution_count": 8,
   "id": "e8f56662",
   "metadata": {},
   "outputs": [],
   "source": [
    "X_test = np.loadtxt(\"test_X.csv\" , delimiter = \",\")\n",
    "Y_test = np.loadtxt(\"test_label.csv\" , delimiter = \",\")"
   ]
  },
  {
   "cell_type": "code",
   "execution_count": 9,
   "id": "4c751545",
   "metadata": {},
   "outputs": [
    {
     "name": "stdout",
     "output_type": "stream",
     "text": [
      "(1000, 784)\n"
     ]
    }
   ],
   "source": [
    "print(X_train.shape)"
   ]
  },
  {
   "cell_type": "code",
   "execution_count": 10,
   "id": "5a9abc9d",
   "metadata": {},
   "outputs": [
    {
     "name": "stdout",
     "output_type": "stream",
     "text": [
      "(1000, 10)\n"
     ]
    }
   ],
   "source": [
    "print(Y_train.shape)"
   ]
  },
  {
   "cell_type": "code",
   "execution_count": 17,
   "id": "16cf314c",
   "metadata": {},
   "outputs": [
    {
     "data": {
      "image/png": "[encoded data removed]",
      "text/plain": [
       "<Figure size 640x480 with 1 Axes>"
      ]
     },
     "metadata": {},
     "output_type": "display_data"
    }
   ],
   "source": [
    "img = X_train.T\n",
    "import random\n",
    "import matplotlib.pyplot as plt\n",
    "index = random.randrange(0, img.shape[1])\n",
    "plt.imshow(img[:,index].reshape(28,28), cmap = \"gray\")\n",
    "plt.show()"
   ]
  },
  {
   "cell_type": "code",
   "execution_count": 19,
   "id": "497c5ce3",
   "metadata": {},
   "outputs": [],
   "source": [
    "train_data_tensor = torch.tensor(X_train , dtype = torch.float32)\n",
    "train_label_tensor = torch.tensor(Y_train , dtype = torch.float32)"
   ]
  },
  {
   "cell_type": "code",
   "execution_count": 20,
   "id": "44179c3d",
   "metadata": {},
   "outputs": [],
   "source": [
    "train_dataset = TensorDataset(train_data_tensor, train_label_tensor)"
   ]
  },
  {
   "cell_type": "code",
   "execution_count": 21,
   "id": "3d0fb6cc",
   "metadata": {},
   "outputs": [],
   "source": [
    "batch_size = 32"
   ]
  },
  {
   "cell_type": "code",
   "execution_count": 22,
   "id": "29cbfff7",
   "metadata": {},
   "outputs": [],
   "source": [
    "train_dataloader = DataLoader(train_dataset , batch_size = batch_size , shuffle  =True)"
   ]
  },
  {
   "cell_type": "code",
   "execution_count": 23,
   "id": "4af65aa9",
   "metadata": {},
   "outputs": [],
   "source": [
    "import torch.nn as nn\n",
    "import torch.nn.functional as F\n",
    "\n",
    "class SimpleModel(nn.Module):\n",
    "    def __init__(self):\n",
    "        super(SimpleModel, self).__init__()\n",
    "        self.fc1 = nn.Linear(784, 256)\n",
    "        self.fc2 = nn.Linear(256,10)\n",
    "    \n",
    "    def forward(self, x):\n",
    "        x = F.relu(self.fc1(x))\n",
    "        x = self.fc2(x)\n",
    "        \n",
    "        return x\n",
    "\n",
    "model = SimpleModel()"
   ]
  },
  {
   "cell_type": "code",
   "execution_count": 26,
   "id": "21d117f5",
   "metadata": {},
   "outputs": [],
   "source": [
    "import torch.optim as optim\n",
    "\n",
    "criterian = nn.CrossEntropyLoss()\n",
    "optimizer = optim.Adam(model.parameters() , lr = 0.001)"
   ]
  },
  {
   "cell_type": "code",
   "execution_count": 31,
   "id": "50269044",
   "metadata": {},
   "outputs": [
    {
     "name": "stdout",
     "output_type": "stream",
     "text": [
      "epoch is 0 loss value is 0.054782048727916616\n",
      "epoch is 1 loss value is 0.04254744765625536\n",
      "epoch is 2 loss value is 0.05240514711759271\n",
      "epoch is 3 loss value is 0.07919069389686893\n",
      "epoch is 4 loss value is 0.15848671795251032\n",
      "epoch is 5 loss value is 0.08137889018520353\n",
      "epoch is 6 loss value is 0.5550995253979204\n",
      "epoch is 7 loss value is 0.15114574913243642\n",
      "epoch is 8 loss value is 0.15502490894441667\n",
      "epoch is 9 loss value is 0.1077884682207889\n"
     ]
    }
   ],
   "source": [
    "num_epochs = 10\n",
    "\n",
    "for epoch in range(num_epochs):\n",
    "    total_loss = 0.0\n",
    "    \n",
    "    for inputs, labels in train_dataloader:\n",
    "        optimizer.zero_grad() # zero the gradients\n",
    "        outputs = model(inputs) #forward propagation\n",
    "        loss = criterian(outputs, labels) #computes the loss \n",
    "        loss.backward() #backword propagation\n",
    "        optimizer.step() ##update the weights\n",
    "        \n",
    "        total_loss += loss.item() * inputs.size(0) ##acumulate the loss\n",
    "    \n",
    "    avg_loss = total_loss / len(train_dataset)\n",
    "    print(\"epoch is\" , epoch , \"loss value is\" , avg_loss)"
   ]
  },
  {
   "cell_type": "code",
   "execution_count": 62,
   "id": "f1366e53",
   "metadata": {},
   "outputs": [],
   "source": [
    "test_data_tensor = torch.tensor(X_test , dtype = torch.float32)"
   ]
  },
  {
   "cell_type": "code",
   "execution_count": 73,
   "id": "8213c84d",
   "metadata": {},
   "outputs": [
    {
     "data": {
      "image/png": "[encoded data removed]",
      "text/plain": [
       "<Figure size 640x480 with 1 Axes>"
      ]
     },
     "metadata": {},
     "output_type": "display_data"
    }
   ],
   "source": [
    "img = X_test.T\n",
    "import random\n",
    "import matplotlib.pyplot as plt\n",
    "index = random.randrange(0, img.shape[1])\n",
    "plt.imshow(img[:,index].reshape(28,28), cmap = \"gray\")\n",
    "plt.show()"
   ]
  },
  {
   "cell_type": "code",
   "execution_count": 74,
   "id": "31b506d2",
   "metadata": {},
   "outputs": [],
   "source": [
    "one_record = test_data_tensor[index]\n",
    "one_record = one_record.unsqueeze(0)"
   ]
  },
  {
   "cell_type": "code",
   "execution_count": 75,
   "id": "ac74ab3e",
   "metadata": {},
   "outputs": [],
   "source": [
    "with torch.no_grad():\n",
    "    prediction = model(one_record)"
   ]
  },
  {
   "cell_type": "code",
   "execution_count": 76,
   "id": "634b7c39",
   "metadata": {},
   "outputs": [],
   "source": [
    "prediction_label = torch.argmax( prediction, dim = 1)"
   ]
  },
  {
   "cell_type": "code",
   "execution_count": 77,
   "id": "1e5e5037",
   "metadata": {},
   "outputs": [
    {
     "data": {
      "text/plain": [
       "5"
      ]
     },
     "execution_count": 77,
     "metadata": {},
     "output_type": "execute_result"
    }
   ],
   "source": [
    "prediction_label.numpy()[0]"
   ]
  },
  {
   "cell_type": "code",
   "execution_count": null,
   "id": "6ed0c388",
   "metadata": {},
   "outputs": [],
   "source": []
  }
 ],
 "metadata": {
  "kernelspec": {
   "display_name": "Python 3 (ipykernel)",
   "language": "python",
   "name": "python3"
  },
  "language_info": {
   "codemirror_mode": {
    "name": "ipython",
    "version": 3
   },
   "file_extension": ".py",
   "mimetype": "text/x-python",
   "name": "python",
   "nbconvert_exporter": "python",
   "pygments_lexer": "ipython3",
   "version": "3.11.4"
  }
 },
 "nbformat": 4,
 "nbformat_minor": 5
}
