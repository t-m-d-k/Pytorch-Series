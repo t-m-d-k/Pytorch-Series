{
 "cells": [
  {
   "cell_type": "code",
   "execution_count": 1,
   "id": "0c16028f",
   "metadata": {},
   "outputs": [],
   "source": [
    "#conda install pytorch torchvision torchaudio cpuonly -c pytorch"
   ]
  },
  {
   "cell_type": "code",
   "execution_count": 3,
   "id": "4ccdbc13",
   "metadata": {},
   "outputs": [],
   "source": [
    "import torch"
   ]
  },
  {
   "cell_type": "code",
   "execution_count": 4,
   "id": "da355015",
   "metadata": {},
   "outputs": [],
   "source": [
    "import numpy as np"
   ]
  },
  {
   "cell_type": "code",
   "execution_count": 5,
   "id": "fbe16ec9",
   "metadata": {},
   "outputs": [],
   "source": [
    "data = [[20,10] , [3,4]]"
   ]
  },
  {
   "cell_type": "code",
   "execution_count": 6,
   "id": "2f70cda9",
   "metadata": {},
   "outputs": [],
   "source": [
    "x_data = torch.tensor(data)"
   ]
  },
  {
   "cell_type": "code",
   "execution_count": 7,
   "id": "b205391d",
   "metadata": {},
   "outputs": [
    {
     "data": {
      "text/plain": [
       "tensor([[20, 10],\n",
       "        [ 3,  4]])"
      ]
     },
     "execution_count": 7,
     "metadata": {},
     "output_type": "execute_result"
    }
   ],
   "source": [
    "x_data"
   ]
  },
  {
   "cell_type": "code",
   "execution_count": 8,
   "id": "2cdf09f3",
   "metadata": {},
   "outputs": [
    {
     "data": {
      "text/plain": [
       "tensor([[1, 1],\n",
       "        [1, 1]])"
      ]
     },
     "execution_count": 8,
     "metadata": {},
     "output_type": "execute_result"
    }
   ],
   "source": [
    "a = torch.ones_like(x_data)\n",
    "a"
   ]
  },
  {
   "cell_type": "code",
   "execution_count": 9,
   "id": "a9b54069",
   "metadata": {},
   "outputs": [
    {
     "data": {
      "text/plain": [
       "tensor([[0, 0],\n",
       "        [0, 0]])"
      ]
     },
     "execution_count": 9,
     "metadata": {},
     "output_type": "execute_result"
    }
   ],
   "source": [
    "a = torch.zeros_like(x_data)\n",
    "a"
   ]
  },
  {
   "cell_type": "code",
   "execution_count": 10,
   "id": "8e992f5c",
   "metadata": {},
   "outputs": [
    {
     "data": {
      "text/plain": [
       "tensor([[0.4243, 0.9857],\n",
       "        [0.0378, 0.6797]])"
      ]
     },
     "execution_count": 10,
     "metadata": {},
     "output_type": "execute_result"
    }
   ],
   "source": [
    "x_rand = torch.rand_like(x_data, dtype = torch.float)\n",
    "x_rand"
   ]
  },
  {
   "cell_type": "code",
   "execution_count": 11,
   "id": "4f08392f",
   "metadata": {},
   "outputs": [
    {
     "data": {
      "text/plain": [
       "tensor([[0.7947, 0.6555, 0.8492, 0.9407],\n",
       "        [0.3057, 0.0515, 0.8854, 0.1340],\n",
       "        [0.9730, 0.3130, 0.8920, 0.5625],\n",
       "        [0.5416, 0.9226, 0.7314, 0.4132],\n",
       "        [0.1837, 0.8360, 0.3733, 0.1995]])"
      ]
     },
     "execution_count": 11,
     "metadata": {},
     "output_type": "execute_result"
    }
   ],
   "source": [
    "shape = (5,4)\n",
    "rand_tensor = torch.rand(shape)\n",
    "rand_tensor"
   ]
  },
  {
   "cell_type": "code",
   "execution_count": 12,
   "id": "353c396f",
   "metadata": {},
   "outputs": [
    {
     "data": {
      "text/plain": [
       "tensor([[1., 1., 1., 1.],\n",
       "        [1., 1., 1., 1.],\n",
       "        [1., 1., 1., 1.],\n",
       "        [1., 1., 1., 1.],\n",
       "        [1., 1., 1., 1.]])"
      ]
     },
     "execution_count": 12,
     "metadata": {},
     "output_type": "execute_result"
    }
   ],
   "source": [
    "rand_ones = torch.ones(shape)\n",
    "rand_ones"
   ]
  },
  {
   "cell_type": "code",
   "execution_count": 13,
   "id": "bfb1ec19",
   "metadata": {},
   "outputs": [
    {
     "data": {
      "text/plain": [
       "tensor([[0., 0., 0., 0.],\n",
       "        [0., 0., 0., 0.],\n",
       "        [0., 0., 0., 0.],\n",
       "        [0., 0., 0., 0.],\n",
       "        [0., 0., 0., 0.]])"
      ]
     },
     "execution_count": 13,
     "metadata": {},
     "output_type": "execute_result"
    }
   ],
   "source": [
    "rand_zeros = torch.zeros(shape)\n",
    "rand_zeros"
   ]
  },
  {
   "cell_type": "code",
   "execution_count": 14,
   "id": "f13257f1",
   "metadata": {},
   "outputs": [
    {
     "data": {
      "text/plain": [
       "tensor([[[0.7415, 0.1584, 0.8927, 0.4842, 0.6583],\n",
       "         [0.2661, 0.9514, 0.0792, 0.0994, 0.2550],\n",
       "         [0.8054, 0.0167, 0.0314, 0.6190, 0.2821]],\n",
       "\n",
       "        [[0.3246, 0.1980, 0.9974, 0.6675, 0.5904],\n",
       "         [0.5415, 0.9712, 0.9811, 0.5450, 0.7578],\n",
       "         [0.3662, 0.1975, 0.0427, 0.4302, 0.5771]]])"
      ]
     },
     "execution_count": 14,
     "metadata": {},
     "output_type": "execute_result"
    }
   ],
   "source": [
    "shape = (2,3,5)\n",
    "rand_tensor = torch.rand(shape)\n",
    "rand_tensor"
   ]
  },
  {
   "cell_type": "code",
   "execution_count": 15,
   "id": "ab8ac624",
   "metadata": {},
   "outputs": [
    {
     "name": "stdout",
     "output_type": "stream",
     "text": [
      "torch.Size([2, 3, 5])\n"
     ]
    }
   ],
   "source": [
    "print(rand_tensor.shape)"
   ]
  },
  {
   "cell_type": "code",
   "execution_count": 16,
   "id": "f69fd994",
   "metadata": {},
   "outputs": [
    {
     "name": "stdout",
     "output_type": "stream",
     "text": [
      "torch.float32\n"
     ]
    }
   ],
   "source": [
    "print(rand_tensor.dtype)"
   ]
  },
  {
   "cell_type": "code",
   "execution_count": 17,
   "id": "2f2037a6",
   "metadata": {},
   "outputs": [
    {
     "name": "stdout",
     "output_type": "stream",
     "text": [
      "cpu\n"
     ]
    }
   ],
   "source": [
    "print(rand_tensor.device)"
   ]
  },
  {
   "cell_type": "code",
   "execution_count": 18,
   "id": "847abb3e",
   "metadata": {},
   "outputs": [],
   "source": [
    "if torch.cuda.is_available():\n",
    "    tensor = tensor.to(\"cuda\")"
   ]
  },
  {
   "cell_type": "code",
   "execution_count": 24,
   "id": "e9607c26",
   "metadata": {},
   "outputs": [
    {
     "data": {
      "text/plain": [
       "tensor([[0.2292, 0.0765, 0.1400, 0.4165],\n",
       "        [0.5186, 0.5902, 0.3773, 0.7240],\n",
       "        [0.4839, 0.5103, 0.3289, 0.0166],\n",
       "        [0.3913, 0.8387, 0.6172, 0.6602]])"
      ]
     },
     "execution_count": 24,
     "metadata": {},
     "output_type": "execute_result"
    }
   ],
   "source": [
    "#indexing\n",
    "tensor = torch.rand(4,4)\n",
    "tensor"
   ]
  },
  {
   "cell_type": "code",
   "execution_count": 25,
   "id": "c4b43ab1",
   "metadata": {},
   "outputs": [
    {
     "name": "stdout",
     "output_type": "stream",
     "text": [
      "tensor([0.2292, 0.0765, 0.1400, 0.4165])\n"
     ]
    }
   ],
   "source": [
    "#print first row \n",
    "print(tensor[0])"
   ]
  },
  {
   "cell_type": "code",
   "execution_count": 26,
   "id": "4d51d620",
   "metadata": {},
   "outputs": [
    {
     "name": "stdout",
     "output_type": "stream",
     "text": [
      "tensor([0.2292, 0.5186, 0.4839, 0.3913])\n"
     ]
    }
   ],
   "source": [
    "#print first column \n",
    "print(tensor[:,0])"
   ]
  },
  {
   "cell_type": "code",
   "execution_count": 27,
   "id": "9c391ef2",
   "metadata": {},
   "outputs": [
    {
     "name": "stdout",
     "output_type": "stream",
     "text": [
      "tensor([0.4165, 0.7240, 0.0166, 0.6602])\n"
     ]
    }
   ],
   "source": [
    "#print last column \n",
    "print(tensor[:,-1])"
   ]
  },
  {
   "cell_type": "code",
   "execution_count": 28,
   "id": "8ecefc4c",
   "metadata": {},
   "outputs": [],
   "source": [
    "#matrix multiplication"
   ]
  },
  {
   "cell_type": "code",
   "execution_count": 29,
   "id": "3449e737",
   "metadata": {},
   "outputs": [
    {
     "data": {
      "text/plain": [
       "tensor([[0.2292, 0.0765, 0.1400, 0.4165],\n",
       "        [0.5186, 0.5902, 0.3773, 0.7240],\n",
       "        [0.4839, 0.5103, 0.3289, 0.0166],\n",
       "        [0.3913, 0.8387, 0.6172, 0.6602]])"
      ]
     },
     "execution_count": 29,
     "metadata": {},
     "output_type": "execute_result"
    }
   ],
   "source": [
    "tensor"
   ]
  },
  {
   "cell_type": "code",
   "execution_count": 30,
   "id": "c9724a8e",
   "metadata": {},
   "outputs": [
    {
     "data": {
      "text/plain": [
       "torch.Size([4, 4])"
      ]
     },
     "execution_count": 30,
     "metadata": {},
     "output_type": "execute_result"
    }
   ],
   "source": [
    "tensor.shape"
   ]
  },
  {
   "cell_type": "code",
   "execution_count": 31,
   "id": "72e3c8ee",
   "metadata": {},
   "outputs": [
    {
     "data": {
      "text/plain": [
       "tensor([[0.2515, 0.5185, 0.2029, 0.5153],\n",
       "        [0.5185, 1.2839, 0.6882, 1.4089],\n",
       "        [0.2029, 0.6882, 0.6030, 0.8313],\n",
       "        [0.5153, 1.4089, 0.8313, 1.6733]])"
      ]
     },
     "execution_count": 31,
     "metadata": {},
     "output_type": "execute_result"
    }
   ],
   "source": [
    "y1 = tensor @ tensor.T\n",
    "y1"
   ]
  },
  {
   "cell_type": "code",
   "execution_count": 32,
   "id": "a5c08fc5",
   "metadata": {},
   "outputs": [
    {
     "data": {
      "text/plain": [
       "tensor([[0.2515, 0.5185, 0.2029, 0.5153],\n",
       "        [0.5185, 1.2839, 0.6882, 1.4089],\n",
       "        [0.2029, 0.6882, 0.6030, 0.8313],\n",
       "        [0.5153, 1.4089, 0.8313, 1.6733]])"
      ]
     },
     "execution_count": 32,
     "metadata": {},
     "output_type": "execute_result"
    }
   ],
   "source": [
    "y2 = tensor.matmul(tensor.T)\n",
    "y2"
   ]
  },
  {
   "cell_type": "code",
   "execution_count": 33,
   "id": "57112837",
   "metadata": {},
   "outputs": [
    {
     "data": {
      "text/plain": [
       "tensor([[0.2515, 0.5185, 0.2029, 0.5153],\n",
       "        [0.5185, 1.2839, 0.6882, 1.4089],\n",
       "        [0.2029, 0.6882, 0.6030, 0.8313],\n",
       "        [0.5153, 1.4089, 0.8313, 1.6733]])"
      ]
     },
     "execution_count": 33,
     "metadata": {},
     "output_type": "execute_result"
    }
   ],
   "source": [
    "y3 = torch.rand_like(y1)\n",
    "torch.matmul(tensor, tensor.T, out = y3)\n",
    "y3"
   ]
  },
  {
   "cell_type": "code",
   "execution_count": 34,
   "id": "d1c941c6",
   "metadata": {},
   "outputs": [],
   "source": [
    "#aggregations"
   ]
  },
  {
   "cell_type": "code",
   "execution_count": 35,
   "id": "f43c33bf",
   "metadata": {},
   "outputs": [
    {
     "data": {
      "text/plain": [
       "tensor([[0.2292, 0.0765, 0.1400, 0.4165],\n",
       "        [0.5186, 0.5902, 0.3773, 0.7240],\n",
       "        [0.4839, 0.5103, 0.3289, 0.0166],\n",
       "        [0.3913, 0.8387, 0.6172, 0.6602]])"
      ]
     },
     "execution_count": 35,
     "metadata": {},
     "output_type": "execute_result"
    }
   ],
   "source": [
    "tensor"
   ]
  },
  {
   "cell_type": "code",
   "execution_count": 37,
   "id": "4ce89486",
   "metadata": {},
   "outputs": [
    {
     "name": "stdout",
     "output_type": "stream",
     "text": [
      "tensor(6.9196)\n"
     ]
    }
   ],
   "source": [
    "agg = tensor.sum()\n",
    "print(agg)"
   ]
  },
  {
   "cell_type": "code",
   "execution_count": 39,
   "id": "4a660241",
   "metadata": {},
   "outputs": [
    {
     "data": {
      "text/plain": [
       "torch.float32"
      ]
     },
     "execution_count": 39,
     "metadata": {},
     "output_type": "execute_result"
    }
   ],
   "source": [
    "agg.dtype"
   ]
  },
  {
   "cell_type": "code",
   "execution_count": 40,
   "id": "ad281c45",
   "metadata": {},
   "outputs": [
    {
     "name": "stdout",
     "output_type": "stream",
     "text": [
      "6.919607162475586\n"
     ]
    }
   ],
   "source": [
    "a = agg.item()\n",
    "print(a)"
   ]
  },
  {
   "cell_type": "code",
   "execution_count": 41,
   "id": "6a18b863",
   "metadata": {},
   "outputs": [
    {
     "name": "stdout",
     "output_type": "stream",
     "text": [
      "<class 'float'>\n"
     ]
    }
   ],
   "source": [
    "print(type(a))"
   ]
  },
  {
   "cell_type": "code",
   "execution_count": 43,
   "id": "f8eafca2",
   "metadata": {},
   "outputs": [
    {
     "data": {
      "text/plain": [
       "tensor([[0.2292, 0.0765, 0.1400, 0.4165],\n",
       "        [0.5186, 0.5902, 0.3773, 0.7240],\n",
       "        [0.4839, 0.5103, 0.3289, 0.0166],\n",
       "        [0.3913, 0.8387, 0.6172, 0.6602]])"
      ]
     },
     "execution_count": 43,
     "metadata": {},
     "output_type": "execute_result"
    }
   ],
   "source": [
    "tensor"
   ]
  },
  {
   "cell_type": "code",
   "execution_count": 44,
   "id": "db3ce0d1",
   "metadata": {},
   "outputs": [
    {
     "name": "stdout",
     "output_type": "stream",
     "text": [
      "tensor([[2.2292, 2.0765, 2.1400, 2.4165],\n",
      "        [2.5186, 2.5902, 2.3773, 2.7240],\n",
      "        [2.4839, 2.5103, 2.3289, 2.0166],\n",
      "        [2.3913, 2.8387, 2.6172, 2.6602]])\n"
     ]
    }
   ],
   "source": [
    "tensor.add_(2)\n",
    "print(tensor)"
   ]
  },
  {
   "cell_type": "code",
   "execution_count": null,
   "id": "bf08649b",
   "metadata": {},
   "outputs": [],
   "source": []
  }
 ],
 "metadata": {
  "kernelspec": {
   "display_name": "Python 3 (ipykernel)",
   "language": "python",
   "name": "python3"
  },
  "language_info": {
   "codemirror_mode": {
    "name": "ipython",
    "version": 3
   },
   "file_extension": ".py",
   "mimetype": "text/x-python",
   "name": "python",
   "nbconvert_exporter": "python",
   "pygments_lexer": "ipython3",
   "version": "3.11.4"
  }
 },
 "nbformat": 4,
 "nbformat_minor": 5
}
