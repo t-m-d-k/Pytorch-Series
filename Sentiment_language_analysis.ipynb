{
 "cells": [
  {
   "cell_type": "code",
   "execution_count": 1,
   "id": "44d5cfa3",
   "metadata": {},
   "outputs": [],
   "source": [
    "import numpy as np \n",
    "import pandas as pd \n",
    "\n",
    "import matplotlib.pyplot as plt\n",
    "\n",
    "import torch\n",
    "import torch.nn.functional as F\n",
    "from torch import nn, optim"
   ]
  },
  {
   "cell_type": "code",
   "execution_count": 63,
   "id": "89747ce1",
   "metadata": {},
   "outputs": [
    {
     "name": "stdout",
     "output_type": "stream",
     "text": [
      "{'veinte': 0, 'paginas': 1, 'நீங்கள்': 2, 'ஆங்கிலம்': 3, 'பேசுகிறீர்களா?': 4, 'உங்களை': 5, 'சந்தித்ததில்': 6, 'மகிழ்ச்சி': 7, 'உங்கள்': 8, 'பெயர்': 9, 'என்ன?': 10, 'காலை': 11, 'வணக்கம்!': 12, 'அவள்': 13, 'என்': 14, 'அம்மா': 15, 'i': 16, 'will': 17, 'visit': 18, 'the': 19, 'library': 20, 'am': 21, 'reading': 22, 'a': 23, 'book': 24, 'this': 25, 'is': 26, 'my': 27, 'favourite': 28, 'chapter': 29, 'estoy': 30, 'en': 31, 'la': 32, 'biblioteca': 33, 'tengo': 34, 'un': 35, 'libro': 36, 'leyendo': 37, 'எனக்கு': 38, 'உதவ': 39, 'முடியுமா?': 40, 'not': 41}\n"
     ]
    }
   ],
   "source": [
    "training_data = [\n",
    "        (\"Veinte paginas\".lower().split(), \"Spanish\"),\n",
    "        (\"நீங்கள் ஆங்கிலம் பேசுகிறீர்களா?\".split(),\"தமிழ்\"),\n",
    "        (\"உங்களை சந்தித்ததில் மகிழ்ச்சி\".split(),\"தமிழ்\"),\n",
    "        (\"உங்கள் பெயர் என்ன?\".split(),\"தமிழ்\"),\n",
    "        (\"காலை வணக்கம்!\".split(),\"தமிழ்\"),\n",
    "        (\"அவள் என் அம்மா\".split(),\"தமிழ்\"),\n",
    "        (\"I will visit the library\".lower().split(), \"English\"),\n",
    "        (\"I am reading a book\".lower().split(), \"English\"),\n",
    "        (\"This is my favourite chapter\".lower().split(), \"English\"),\n",
    "        (\"Estoy en la biblioteca\".lower().split(), \"Spanish\"),\n",
    "        (\"Tengo un libro\".lower().split(), \"Spanish\")\n",
    "        ]\n",
    "\n",
    "test_data = [\n",
    "        (\"Estoy leyendo\".lower().split(), \"Spanish\"),\n",
    "         (\"நீங்கள் எனக்கு உதவ முடியுமா?\".split() , \"தமிழ்\"),\n",
    "        (\"This is not my favourite book\".lower().split(), \"English\")\n",
    "        ]\n",
    "\n",
    "word_dict = {}\n",
    "i = 0\n",
    "for words, language in training_data + test_data:\n",
    "    for word in words:\n",
    "        if word not in word_dict:\n",
    "            word_dict[word] = i\n",
    "            i += 1\n",
    "print(word_dict)"
   ]
  },
  {
   "cell_type": "code",
   "execution_count": 64,
   "id": "942ebc53",
   "metadata": {},
   "outputs": [],
   "source": [
    "corpus_size = len(word_dict)\n",
    "languages = 3\n",
    "label_index = {\"Spanish\": 0, \"English\": 1 , \"தமிழ்\" : 2}"
   ]
  },
  {
   "cell_type": "code",
   "execution_count": 65,
   "id": "622139d4",
   "metadata": {},
   "outputs": [],
   "source": [
    "class BagofWordsClassifier(nn.Module):  \n",
    "\n",
    "    def __init__(self, languages, corpus_size):\n",
    "        super(BagofWordsClassifier, self).__init__()\n",
    "        self.linear = nn.Linear(corpus_size, languages)\n",
    "\n",
    "    def forward(self, bow_vec):\n",
    "        return F.log_softmax(self.linear(bow_vec), dim=1)"
   ]
  },
  {
   "cell_type": "code",
   "execution_count": 66,
   "id": "7977e14b",
   "metadata": {},
   "outputs": [],
   "source": [
    "def make_bow_vector(sentence, word_index):\n",
    "    word_vec = torch.zeros(corpus_size)\n",
    "    for word in sentence:\n",
    "        word_vec[word_dict[word]] += 1\n",
    "    return word_vec.view(1, -1)\n",
    "\n",
    "def make_target(label, label_index):\n",
    "    return torch.LongTensor([label_index[label]])"
   ]
  },
  {
   "cell_type": "code",
   "execution_count": 82,
   "id": "09aa0404",
   "metadata": {},
   "outputs": [
    {
     "data": {
      "text/plain": [
       "3"
      ]
     },
     "execution_count": 82,
     "metadata": {},
     "output_type": "execute_result"
    }
   ],
   "source": [
    "languages"
   ]
  },
  {
   "cell_type": "code",
   "execution_count": 68,
   "id": "3bfe26b0",
   "metadata": {},
   "outputs": [],
   "source": [
    "model = BagofWordsClassifier(languages, corpus_size)"
   ]
  },
  {
   "cell_type": "code",
   "execution_count": 69,
   "id": "aa416d36",
   "metadata": {},
   "outputs": [],
   "source": [
    "loss_function = nn.NLLLoss()\n",
    "optimizer = optim.SGD(model.parameters(), lr=0.1)"
   ]
  },
  {
   "cell_type": "code",
   "execution_count": 70,
   "id": "1ad31992",
   "metadata": {},
   "outputs": [
    {
     "name": "stdout",
     "output_type": "stream",
     "text": [
      "Epoch:  1 , Loss: 1.292186975479126\n",
      "Epoch:  11 , Loss: 0.2877197563648224\n",
      "Epoch:  21 , Loss: 0.1350707858800888\n",
      "Epoch:  31 , Loss: 0.08645842969417572\n",
      "Epoch:  41 , Loss: 0.06326258927583694\n",
      "Epoch:  51 , Loss: 0.049787912517786026\n",
      "Epoch:  61 , Loss: 0.04100893437862396\n",
      "Epoch:  71 , Loss: 0.034844618290662766\n",
      "Epoch:  81 , Loss: 0.03028198517858982\n",
      "Epoch:  91 , Loss: 0.026770485565066338\n"
     ]
    }
   ],
   "source": [
    "for epoch in range(100):\n",
    "    for sentence, label in training_data:\n",
    "\n",
    "        model.zero_grad()\n",
    "\n",
    "        bow_vec = make_bow_vector(sentence, word_dict)\n",
    "        target = make_target(label, label_index)\n",
    "\n",
    "\n",
    "        log_probs = model(bow_vec)\n",
    "\n",
    "        loss = loss_function(log_probs, target)\n",
    "        loss.backward()\n",
    "        optimizer.step()\n",
    "        \n",
    "    if epoch % 10 == 0:\n",
    "        print('Epoch: ',str(epoch+1),', Loss: ' + str(loss.item()))"
   ]
  },
  {
   "cell_type": "code",
   "execution_count": 91,
   "id": "fc1c1462",
   "metadata": {},
   "outputs": [
    {
     "name": "stdout",
     "output_type": "stream",
     "text": [
      "sentence ['estoy', 'leyendo']\n",
      "['estoy', 'leyendo']\n",
      "tensor([[0.5259, 0.0814, 0.3927]])\n",
      "Predicted Language is  Spanish\n",
      "sentence ['நீங்கள்', 'எனக்கு', 'உதவ', 'முடியுமா?']\n",
      "['நீங்கள்', 'எனக்கு', 'உதவ', 'முடியுமா?']\n",
      "tensor([[0.1250, 0.0386, 0.8364]])\n",
      "Predicted Language is  தமிழ்\n"
     ]
    }
   ],
   "source": [
    "def make_predictions(data):\n",
    "\n",
    "    with torch.no_grad():\n",
    "        sentence = data\n",
    "        #label = data[1]\n",
    "        print(\"sentence\", sentence)\n",
    "        bow_vec = make_bow_vector(sentence, word_dict)\n",
    "        log_probs = model(bow_vec)\n",
    "        print(sentence)\n",
    "       \n",
    "        print(np.exp(log_probs))\n",
    "        a = ((np.argmax(np.exp(log_probs))).item())\n",
    "        print(\"Predicted Language is \" , list(label_index.keys())[a])\n",
    "        \n",
    "        \n",
    "make_predictions(test_data[0][0])\n",
    "make_predictions(test_data[1][0])"
   ]
  },
  {
   "cell_type": "code",
   "execution_count": 92,
   "id": "abac345f",
   "metadata": {},
   "outputs": [
    {
     "name": "stdout",
     "output_type": "stream",
     "text": [
      "sentence ['நீங்கள்', 'எனக்கு', 'அம்மா']\n",
      "['நீங்கள்', 'எனக்கு', 'அம்மா']\n",
      "tensor([[0.0419, 0.0174, 0.9408]])\n",
      "Predicted Language is  தமிழ்\n"
     ]
    }
   ],
   "source": [
    "make_predictions(['நீங்கள்', 'எனக்கு','அம்மா'])"
   ]
  },
  {
   "cell_type": "code",
   "execution_count": null,
   "id": "0e1c8d95",
   "metadata": {},
   "outputs": [],
   "source": []
  }
 ],
 "metadata": {
  "kernelspec": {
   "display_name": "Python 3 (ipykernel)",
   "language": "python",
   "name": "python3"
  },
  "language_info": {
   "codemirror_mode": {
    "name": "ipython",
    "version": 3
   },
   "file_extension": ".py",
   "mimetype": "text/x-python",
   "name": "python",
   "nbconvert_exporter": "python",
   "pygments_lexer": "ipython3",
   "version": "3.11.4"
  }
 },
 "nbformat": 4,
 "nbformat_minor": 5
}
