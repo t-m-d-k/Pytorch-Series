{
 "cells": [
  {
   "cell_type": "code",
   "execution_count": 1,
   "id": "56619c4e",
   "metadata": {},
   "outputs": [],
   "source": [
    "import torch\n",
    "import torch.nn as nn\n",
    "\n",
    "# Define the embedding layer\n",
    "num_embeddings = 10000  # Example: size of your vocabulary\n",
    "embedding_dim = 50  # Example: dimension of the embedding vectors\n",
    "embedding = nn.Embedding(num_embeddings, embedding_dim)\n",
    "\n",
    "# Input indices (e.g., word indices)\n",
    "input_indices = torch.LongTensor([1, 5, 7, 2])\n",
    "\n",
    "# Forward pass\n",
    "embedded_vectors = embedding(input_indices)\n"
   ]
  },
  {
   "cell_type": "code",
   "execution_count": 2,
   "id": "9f89e1e5",
   "metadata": {},
   "outputs": [
    {
     "name": "stdout",
     "output_type": "stream",
     "text": [
      "Embedding(10000, 50)\n"
     ]
    }
   ],
   "source": [
    "print(embedding)"
   ]
  },
  {
   "cell_type": "code",
   "execution_count": 3,
   "id": "3ca4ad63",
   "metadata": {},
   "outputs": [
    {
     "name": "stdout",
     "output_type": "stream",
     "text": [
      "tensor([1, 5, 7, 2])\n"
     ]
    }
   ],
   "source": [
    "print(input_indices)"
   ]
  },
  {
   "cell_type": "code",
   "execution_count": 5,
   "id": "e7224ed1",
   "metadata": {},
   "outputs": [
    {
     "name": "stdout",
     "output_type": "stream",
     "text": [
      "torch.Size([4, 50])\n"
     ]
    }
   ],
   "source": [
    "print(embedded_vectors.shape)"
   ]
  },
  {
   "cell_type": "code",
   "execution_count": 6,
   "id": "524ab0be",
   "metadata": {},
   "outputs": [
    {
     "data": {
      "text/plain": [
       "tensor([[-7.6258e-01, -8.3363e-01, -1.9169e+00,  4.6170e-01,  6.4479e-01,\n",
       "         -5.1381e-01, -9.2020e-01, -1.9111e+00, -7.3051e-01,  1.7826e-01,\n",
       "         -2.6923e-01, -5.7952e-01, -1.0481e-01,  4.1887e-01, -2.2691e-01,\n",
       "         -5.7106e-02, -5.4458e-01,  4.5134e-01,  6.1445e-01,  1.3075e+00,\n",
       "          9.2793e-01,  1.6416e-01, -1.4918e+00,  1.1367e+00, -6.1355e-02,\n",
       "          5.1288e-01,  5.1717e-01,  7.2833e-02,  6.6939e-01,  1.2095e+00,\n",
       "         -2.8726e-01,  3.3417e-01,  5.7576e-01,  4.0433e-01,  1.3574e+00,\n",
       "          4.9264e-01, -7.3090e-01,  1.0641e+00,  2.6112e-01,  3.7614e-01,\n",
       "          1.5860e+00, -1.0809e+00, -8.4983e-01, -2.9587e-01,  4.5585e-01,\n",
       "          1.5701e+00, -7.8935e-02,  3.2159e-01, -1.1349e-01,  1.7943e+00],\n",
       "        [-3.7224e-01,  6.3057e-01, -1.5825e+00,  1.6704e+00,  1.6899e+00,\n",
       "          2.4680e-01, -3.7491e-01,  4.4753e-02,  1.4137e+00, -5.9871e-01,\n",
       "         -3.6441e-01,  5.0359e-01, -8.4929e-01, -2.5877e-01,  8.3954e-01,\n",
       "          7.6977e-01, -2.6288e+00, -6.5109e-01,  1.2820e+00, -3.1580e-01,\n",
       "          1.2947e+00, -5.7726e-01,  1.8638e+00, -3.5178e-01, -3.6326e-01,\n",
       "          3.2503e-01,  1.8231e-01,  6.7928e-01, -2.3323e+00, -5.2692e-01,\n",
       "          1.2723e+00, -2.9490e-01,  8.8382e-01,  5.8825e-01, -6.9936e-01,\n",
       "          4.2362e-01, -4.8034e-01, -7.4031e-01,  1.1261e+00,  1.4464e-01,\n",
       "          5.4472e-01,  1.9214e+00,  3.8696e-01,  1.5378e+00, -7.7097e-01,\n",
       "          1.4555e-01,  4.1344e-01,  3.7972e-01, -1.2419e+00, -6.7812e-01],\n",
       "        [ 8.2406e-01, -2.2882e-01, -6.2924e-01, -7.8363e-01,  4.7828e-01,\n",
       "          1.9280e+00,  1.4892e+00,  6.5460e-02, -2.5005e+00,  8.0390e-01,\n",
       "         -3.2288e-01, -8.6170e-01,  2.1838e+00,  8.4149e-01,  1.2369e+00,\n",
       "          6.5811e-04, -3.5686e-01, -1.2608e+00, -1.0623e-01, -9.7216e-01,\n",
       "          2.5708e-02,  4.6795e-01,  3.3015e-01,  1.7788e-01,  9.5187e-02,\n",
       "         -1.3468e+00, -7.9907e-01,  5.6886e-01, -2.2174e-01, -1.0226e+00,\n",
       "          6.4356e-02, -3.5152e-01, -1.0907e+00,  1.2875e+00, -1.3070e+00,\n",
       "          2.1660e+00, -7.6587e-02,  6.7069e-01, -6.1797e-01, -1.8115e-01,\n",
       "          1.4494e+00,  1.0434e+00, -4.8018e-01,  2.2345e+00, -2.1602e+00,\n",
       "         -8.4070e-01,  1.0156e+00, -1.2838e+00,  5.8588e-01,  1.2237e+00],\n",
       "        [-2.0489e+00,  1.6631e+00, -2.6788e-01,  1.9126e-02,  1.7768e-01,\n",
       "         -5.2133e-01, -1.1808e+00, -4.5607e-01,  6.4694e-01,  4.8452e-01,\n",
       "          7.6699e-01, -2.6059e-01, -1.4415e+00, -3.6736e-01,  7.9832e-01,\n",
       "         -3.4210e-01, -4.3043e-01, -4.2749e-01, -1.9083e-01,  4.9902e-01,\n",
       "          2.0392e+00, -1.0122e+00,  1.3647e+00,  8.6368e-01,  2.9018e+00,\n",
       "         -6.1194e-01, -4.3927e-01, -1.6530e-01, -2.0991e-01, -1.5069e+00,\n",
       "          1.4137e+00,  1.9281e-01, -2.3034e+00,  4.8404e-01,  1.1312e+00,\n",
       "          2.6784e-01, -6.6341e-01, -3.6733e-01,  9.5404e-01,  7.8417e-01,\n",
       "          5.2461e-01,  9.9376e-01, -1.1729e+00, -6.0034e-01, -3.4997e-01,\n",
       "         -2.0155e-01, -1.8633e+00, -2.1617e-01, -1.7255e+00, -4.7106e-01]],\n",
       "       grad_fn=<EmbeddingBackward0>)"
      ]
     },
     "execution_count": 6,
     "metadata": {},
     "output_type": "execute_result"
    }
   ],
   "source": [
    "embedded_vectors"
   ]
  },
  {
   "cell_type": "code",
   "execution_count": null,
   "id": "dc80c5ff",
   "metadata": {},
   "outputs": [],
   "source": []
  }
 ],
 "metadata": {
  "kernelspec": {
   "display_name": "Python 3 (ipykernel)",
   "language": "python",
   "name": "python3"
  },
  "language_info": {
   "codemirror_mode": {
    "name": "ipython",
    "version": 3
   },
   "file_extension": ".py",
   "mimetype": "text/x-python",
   "name": "python",
   "nbconvert_exporter": "python",
   "pygments_lexer": "ipython3",
   "version": "3.11.4"
  }
 },
 "nbformat": 4,
 "nbformat_minor": 5
}
