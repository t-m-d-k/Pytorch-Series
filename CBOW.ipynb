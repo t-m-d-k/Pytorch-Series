{
 "cells": [
  {
   "cell_type": "code",
   "execution_count": 118,
   "id": "d975f91b",
   "metadata": {},
   "outputs": [],
   "source": [
    "import torch\n",
    "import torch.nn as nn\n",
    "import numpy as np"
   ]
  },
  {
   "cell_type": "code",
   "execution_count": 119,
   "id": "fc047836",
   "metadata": {},
   "outputs": [],
   "source": [
    "from nltk import FreqDist\n",
    "from nltk.corpus import stopwords"
   ]
  },
  {
   "cell_type": "code",
   "execution_count": 120,
   "id": "0b219cf8",
   "metadata": {},
   "outputs": [],
   "source": [
    "\n",
    "\n",
    "text = \"\"\"Man and women are the two genders. Strongest man will be awarded as the king and strongest women will be awarded\n",
    "as the queen. King job is to protect from enemy and queen job is to take care of their people.Enemey used to attack king \n",
    "as he is the most strongest person and queen used to protect his king\"\"\"\n",
    "sample_words = text.split()\n",
    "sample_words = [word for word in sample_words if word not in stopwords.words('english')]\n",
    "text = \" \".join(sample_words)\n",
    "text = text.replace(',','').replace('.','').lower().split()\n",
    "\n"
   ]
  },
  {
   "cell_type": "code",
   "execution_count": 121,
   "id": "ee3d9465",
   "metadata": {},
   "outputs": [
    {
     "data": {
      "text/plain": [
       "['man',\n",
       " 'women',\n",
       " 'two',\n",
       " 'genders',\n",
       " 'strongest',\n",
       " 'man',\n",
       " 'awarded',\n",
       " 'king',\n",
       " 'strongest',\n",
       " 'women',\n",
       " 'awarded',\n",
       " 'queen',\n",
       " 'king',\n",
       " 'job',\n",
       " 'protect',\n",
       " 'enemy',\n",
       " 'queen',\n",
       " 'job',\n",
       " 'take',\n",
       " 'care',\n",
       " 'peopleenemey',\n",
       " 'used',\n",
       " 'attack',\n",
       " 'king',\n",
       " 'strongest',\n",
       " 'person',\n",
       " 'queen',\n",
       " 'used',\n",
       " 'protect',\n",
       " 'king']"
      ]
     },
     "execution_count": 121,
     "metadata": {},
     "output_type": "execute_result"
    }
   ],
   "source": [
    "text"
   ]
  },
  {
   "cell_type": "code",
   "execution_count": 122,
   "id": "58a7e9d4",
   "metadata": {},
   "outputs": [
    {
     "name": "stdout",
     "output_type": "stream",
     "text": [
      "(['women', 'genders'], 'two')\n"
     ]
    }
   ],
   "source": [
    "corpus = set(text)\n",
    "corpus_length = len(corpus)\n",
    "\n",
    "word_dict = {}\n",
    "inverse_word_dict = {}\n",
    "\n",
    "for i, word in enumerate(corpus):\n",
    "    word_dict[word] = i\n",
    "    inverse_word_dict[i] = word\n",
    "\n",
    "data = []\n",
    "\n",
    "for i in range(2, len(text) - 2):\n",
    "    sentence = [text[i-2], text[i-1],\n",
    "               text[i+1], text[i+2]]\n",
    "    sentence = [ text[i-1],\n",
    "               text[i+1]]\n",
    "    target = text[i]\n",
    "    data.append((sentence, target))\n",
    "    \n",
    "print(data[0])"
   ]
  },
  {
   "cell_type": "code",
   "execution_count": 123,
   "id": "bfc69f53",
   "metadata": {},
   "outputs": [],
   "source": [
    "embedding_length = 20\n",
    "\n",
    "class CBoW(torch.nn.Module):\n",
    "\n",
    "    def __init__(self, corpus_length, embedding_dim):\n",
    "        super(CBoW, self).__init__()\n",
    "        \n",
    "        self.embeddings = nn.Embedding(corpus_length, embedding_dim)\n",
    "\n",
    "        self.linear1 = nn.Linear(embedding_dim, 64)\n",
    "        self.linear2 = nn.Linear(64, corpus_length)\n",
    "        \n",
    "        self.activation_function1 = nn.ReLU()\n",
    "        self.activation_function2 = nn.LogSoftmax(dim = -1)\n",
    "\n",
    "    def forward(self, inputs):\n",
    "        embeds = sum(self.embeddings(inputs)).view(1,-1)\n",
    "        out = self.linear1(embeds)\n",
    "        out = self.activation_function1(out)\n",
    "        out = self.linear2(out)\n",
    "        out = self.activation_function2(out)\n",
    "        return out\n",
    "\n",
    "    def get_word_emdedding(self, word):\n",
    "        word = torch.LongTensor([word_dict[word]])\n",
    "        return self.embeddings(word).view(1,-1)\n"
   ]
  },
  {
   "cell_type": "code",
   "execution_count": 124,
   "id": "43a64ca2",
   "metadata": {},
   "outputs": [
    {
     "name": "stdout",
     "output_type": "stream",
     "text": [
      "tensor([6, 2])\n"
     ]
    }
   ],
   "source": [
    "model = CBoW(corpus_length, embedding_length)\n",
    "\n",
    "loss_function = nn.NLLLoss()\n",
    "optimizer = torch.optim.SGD(model.parameters(), lr=0.01)\n",
    "\n",
    "def make_sentence_vector(sentence, word_dict):\n",
    "    idxs = [word_dict[w] for w in sentence]\n",
    "    return torch.tensor(idxs, dtype=torch.long)\n",
    "\n",
    "print(make_sentence_vector(['women', 'genders'], word_dict))"
   ]
  },
  {
   "cell_type": "code",
   "execution_count": 146,
   "id": "ce84352f",
   "metadata": {},
   "outputs": [
    {
     "data": {
      "text/plain": [
       "tensor([[ -0.5209,  -8.4297,  -6.9888,  -5.0172,  -5.6479,  -8.2297,  -8.1652,\n",
       "          -8.9716,  -7.1169,  -8.1660,  -6.3387, -10.4177,  -9.6779, -10.5033,\n",
       "          -8.4916,  -8.5945,  -0.9398]], grad_fn=<LogSoftmaxBackward0>)"
      ]
     },
     "execution_count": 146,
     "metadata": {},
     "output_type": "execute_result"
    }
   ],
   "source": [
    "log_probs"
   ]
  },
  {
   "cell_type": "code",
   "execution_count": 145,
   "id": "ff64b317",
   "metadata": {},
   "outputs": [
    {
     "data": {
      "text/plain": [
       "tensor([16])"
      ]
     },
     "execution_count": 145,
     "metadata": {},
     "output_type": "execute_result"
    }
   ],
   "source": [
    "torch.tensor([word_dict[target]], dtype=torch.long)\n",
    "#word_dict[target]"
   ]
  },
  {
   "cell_type": "code",
   "execution_count": 126,
   "id": "bee92d92",
   "metadata": {},
   "outputs": [
    {
     "name": "stdout",
     "output_type": "stream",
     "text": [
      "Epoch: 0, Loss: 76.31633758544922\n",
      "Epoch: 1, Loss: 71.2906265258789\n",
      "Epoch: 2, Loss: 66.96836853027344\n",
      "Epoch: 3, Loss: 63.089595794677734\n",
      "Epoch: 4, Loss: 59.467872619628906\n",
      "Epoch: 5, Loss: 56.0507698059082\n",
      "Epoch: 6, Loss: 52.79047393798828\n",
      "Epoch: 7, Loss: 49.673553466796875\n",
      "Epoch: 8, Loss: 46.68126678466797\n",
      "Epoch: 9, Loss: 43.804508209228516\n",
      "Epoch: 10, Loss: 41.039527893066406\n",
      "Epoch: 11, Loss: 38.4152717590332\n",
      "Epoch: 12, Loss: 35.902835845947266\n",
      "Epoch: 13, Loss: 33.51782989501953\n",
      "Epoch: 14, Loss: 31.289813995361328\n",
      "Epoch: 15, Loss: 29.24917221069336\n",
      "Epoch: 16, Loss: 27.348907470703125\n",
      "Epoch: 17, Loss: 25.643957138061523\n",
      "Epoch: 18, Loss: 24.11220932006836\n",
      "Epoch: 19, Loss: 22.720956802368164\n",
      "Epoch: 20, Loss: 21.47917938232422\n",
      "Epoch: 21, Loss: 20.372804641723633\n",
      "Epoch: 22, Loss: 19.386329650878906\n",
      "Epoch: 23, Loss: 18.50359535217285\n",
      "Epoch: 24, Loss: 17.717132568359375\n",
      "Epoch: 25, Loss: 17.00832748413086\n",
      "Epoch: 26, Loss: 16.374645233154297\n",
      "Epoch: 27, Loss: 15.813638687133789\n",
      "Epoch: 28, Loss: 15.30257797241211\n",
      "Epoch: 29, Loss: 14.843716621398926\n",
      "Epoch: 30, Loss: 14.44162368774414\n",
      "Epoch: 31, Loss: 14.062833786010742\n",
      "Epoch: 32, Loss: 13.737028121948242\n",
      "Epoch: 33, Loss: 13.425039291381836\n",
      "Epoch: 34, Loss: 13.14871597290039\n",
      "Epoch: 35, Loss: 12.896895408630371\n",
      "Epoch: 36, Loss: 12.663395881652832\n",
      "Epoch: 37, Loss: 12.461235046386719\n",
      "Epoch: 38, Loss: 12.261635780334473\n",
      "Epoch: 39, Loss: 12.086987495422363\n",
      "Epoch: 40, Loss: 11.920183181762695\n",
      "Epoch: 41, Loss: 11.767805099487305\n",
      "Epoch: 42, Loss: 11.625658988952637\n",
      "Epoch: 43, Loss: 11.489500045776367\n",
      "Epoch: 44, Loss: 11.36337661743164\n",
      "Epoch: 45, Loss: 11.25387191772461\n",
      "Epoch: 46, Loss: 11.145641326904297\n",
      "Epoch: 47, Loss: 11.043852806091309\n",
      "Epoch: 48, Loss: 10.955012321472168\n",
      "Epoch: 49, Loss: 10.871097564697266\n",
      "Epoch: 50, Loss: 10.786689758300781\n",
      "Epoch: 51, Loss: 10.709108352661133\n",
      "Epoch: 52, Loss: 10.643531799316406\n",
      "Epoch: 53, Loss: 10.56934642791748\n",
      "Epoch: 54, Loss: 10.498906135559082\n",
      "Epoch: 55, Loss: 10.441437721252441\n",
      "Epoch: 56, Loss: 10.386770248413086\n",
      "Epoch: 57, Loss: 10.326251983642578\n",
      "Epoch: 58, Loss: 10.268827438354492\n",
      "Epoch: 59, Loss: 10.220308303833008\n",
      "Epoch: 60, Loss: 10.171394348144531\n",
      "Epoch: 61, Loss: 10.125286102294922\n",
      "Epoch: 62, Loss: 10.07801342010498\n",
      "Epoch: 63, Loss: 10.036766052246094\n",
      "Epoch: 64, Loss: 9.992530822753906\n",
      "Epoch: 65, Loss: 9.944690704345703\n",
      "Epoch: 66, Loss: 9.908350944519043\n",
      "Epoch: 67, Loss: 9.86609172821045\n",
      "Epoch: 68, Loss: 9.831920623779297\n",
      "Epoch: 69, Loss: 9.798147201538086\n",
      "Epoch: 70, Loss: 9.765064239501953\n",
      "Epoch: 71, Loss: 9.728673934936523\n",
      "Epoch: 72, Loss: 9.695636749267578\n",
      "Epoch: 73, Loss: 9.661981582641602\n",
      "Epoch: 74, Loss: 9.631936073303223\n",
      "Epoch: 75, Loss: 9.601285934448242\n",
      "Epoch: 76, Loss: 9.579255104064941\n",
      "Epoch: 77, Loss: 9.549062728881836\n",
      "Epoch: 78, Loss: 9.518457412719727\n",
      "Epoch: 79, Loss: 9.491196632385254\n",
      "Epoch: 80, Loss: 9.463518142700195\n",
      "Epoch: 81, Loss: 9.439308166503906\n",
      "Epoch: 82, Loss: 9.413947105407715\n",
      "Epoch: 83, Loss: 9.389883041381836\n",
      "Epoch: 84, Loss: 9.370058059692383\n",
      "Epoch: 85, Loss: 9.333881378173828\n",
      "Epoch: 86, Loss: 9.307208061218262\n",
      "Epoch: 87, Loss: 9.285353660583496\n",
      "Epoch: 88, Loss: 9.264599800109863\n",
      "Epoch: 89, Loss: 9.23934268951416\n",
      "Epoch: 90, Loss: 9.21986198425293\n",
      "Epoch: 91, Loss: 9.196414947509766\n",
      "Epoch: 92, Loss: 9.184362411499023\n",
      "Epoch: 93, Loss: 9.158668518066406\n",
      "Epoch: 94, Loss: 9.137784004211426\n",
      "Epoch: 95, Loss: 9.117765426635742\n",
      "Epoch: 96, Loss: 9.097764015197754\n",
      "Epoch: 97, Loss: 9.082056999206543\n",
      "Epoch: 98, Loss: 9.061988830566406\n",
      "Epoch: 99, Loss: 9.043692588806152\n",
      "Epoch: 100, Loss: 9.029213905334473\n",
      "Epoch: 101, Loss: 9.005831718444824\n",
      "Epoch: 102, Loss: 8.992837905883789\n",
      "Epoch: 103, Loss: 8.978103637695312\n",
      "Epoch: 104, Loss: 8.956610679626465\n",
      "Epoch: 105, Loss: 8.936050415039062\n",
      "Epoch: 106, Loss: 8.922356605529785\n",
      "Epoch: 107, Loss: 8.904982566833496\n",
      "Epoch: 108, Loss: 8.893362045288086\n",
      "Epoch: 109, Loss: 8.872284889221191\n",
      "Epoch: 110, Loss: 8.859197616577148\n",
      "Epoch: 111, Loss: 8.840872764587402\n",
      "Epoch: 112, Loss: 8.827752113342285\n",
      "Epoch: 113, Loss: 8.817411422729492\n",
      "Epoch: 114, Loss: 8.79766845703125\n",
      "Epoch: 115, Loss: 8.784676551818848\n",
      "Epoch: 116, Loss: 8.769209861755371\n",
      "Epoch: 117, Loss: 8.753656387329102\n",
      "Epoch: 118, Loss: 8.741598129272461\n",
      "Epoch: 119, Loss: 8.730522155761719\n",
      "Epoch: 120, Loss: 8.713627815246582\n",
      "Epoch: 121, Loss: 8.698094367980957\n",
      "Epoch: 122, Loss: 8.68121337890625\n",
      "Epoch: 123, Loss: 8.67654037475586\n",
      "Epoch: 124, Loss: 8.659069061279297\n",
      "Epoch: 125, Loss: 8.647197723388672\n",
      "Epoch: 126, Loss: 8.630023002624512\n",
      "Epoch: 127, Loss: 8.625102043151855\n",
      "Epoch: 128, Loss: 8.607527732849121\n",
      "Epoch: 129, Loss: 8.595139503479004\n",
      "Epoch: 130, Loss: 8.581311225891113\n",
      "Epoch: 131, Loss: 8.572373390197754\n",
      "Epoch: 132, Loss: 8.56120491027832\n",
      "Epoch: 133, Loss: 8.54262924194336\n",
      "Epoch: 134, Loss: 8.534455299377441\n",
      "Epoch: 135, Loss: 8.520196914672852\n",
      "Epoch: 136, Loss: 8.509992599487305\n",
      "Epoch: 137, Loss: 8.502735137939453\n",
      "Epoch: 138, Loss: 8.487303733825684\n",
      "Epoch: 139, Loss: 8.474532127380371\n",
      "Epoch: 140, Loss: 8.463824272155762\n",
      "Epoch: 141, Loss: 8.447778701782227\n",
      "Epoch: 142, Loss: 8.440617561340332\n",
      "Epoch: 143, Loss: 8.422736167907715\n",
      "Epoch: 144, Loss: 8.417646408081055\n",
      "Epoch: 145, Loss: 8.404716491699219\n",
      "Epoch: 146, Loss: 8.39470100402832\n",
      "Epoch: 147, Loss: 8.382308006286621\n",
      "Epoch: 148, Loss: 8.374872207641602\n",
      "Epoch: 149, Loss: 8.360457420349121\n",
      "Epoch: 150, Loss: 8.355815887451172\n",
      "Epoch: 151, Loss: 8.338991165161133\n",
      "Epoch: 152, Loss: 8.329388618469238\n",
      "Epoch: 153, Loss: 8.33110523223877\n",
      "Epoch: 154, Loss: 8.313590049743652\n",
      "Epoch: 155, Loss: 8.303077697753906\n",
      "Epoch: 156, Loss: 8.29074478149414\n",
      "Epoch: 157, Loss: 8.28828239440918\n",
      "Epoch: 158, Loss: 8.272969245910645\n",
      "Epoch: 159, Loss: 8.263664245605469\n",
      "Epoch: 160, Loss: 8.256830215454102\n",
      "Epoch: 161, Loss: 8.244552612304688\n",
      "Epoch: 162, Loss: 8.241064071655273\n",
      "Epoch: 163, Loss: 8.231301307678223\n",
      "Epoch: 164, Loss: 8.215547561645508\n",
      "Epoch: 165, Loss: 8.208656311035156\n",
      "Epoch: 166, Loss: 8.201138496398926\n",
      "Epoch: 167, Loss: 8.202681541442871\n",
      "Epoch: 168, Loss: 8.182975769042969\n",
      "Epoch: 169, Loss: 8.175687789916992\n",
      "Epoch: 170, Loss: 8.164385795593262\n",
      "Epoch: 171, Loss: 8.164825439453125\n",
      "Epoch: 172, Loss: 8.148714065551758\n",
      "Epoch: 173, Loss: 8.144232749938965\n",
      "Epoch: 174, Loss: 8.132038116455078\n",
      "Epoch: 175, Loss: 8.123342514038086\n",
      "Epoch: 176, Loss: 8.12142562866211\n",
      "Epoch: 177, Loss: 8.108990669250488\n",
      "Epoch: 178, Loss: 8.103699684143066\n",
      "Epoch: 179, Loss: 8.091291427612305\n",
      "Epoch: 180, Loss: 8.083857536315918\n",
      "Epoch: 181, Loss: 8.08322811126709\n",
      "Epoch: 182, Loss: 8.0704345703125\n",
      "Epoch: 183, Loss: 8.066269874572754\n",
      "Epoch: 184, Loss: 8.053126335144043\n",
      "Epoch: 185, Loss: 8.044709205627441\n",
      "Epoch: 186, Loss: 8.047531127929688\n",
      "Epoch: 187, Loss: 8.030136108398438\n",
      "Epoch: 188, Loss: 8.024683952331543\n",
      "Epoch: 189, Loss: 8.017834663391113\n",
      "Epoch: 190, Loss: 8.007848739624023\n",
      "Epoch: 191, Loss: 8.01055908203125\n",
      "Epoch: 192, Loss: 7.993031024932861\n",
      "Epoch: 193, Loss: 7.986644268035889\n",
      "Epoch: 194, Loss: 7.98387336730957\n",
      "Epoch: 195, Loss: 7.974551200866699\n",
      "Epoch: 196, Loss: 7.973850250244141\n",
      "Epoch: 197, Loss: 7.960712909698486\n",
      "Epoch: 198, Loss: 7.955453395843506\n",
      "Epoch: 199, Loss: 7.946254730224609\n"
     ]
    }
   ],
   "source": [
    "for epoch in range(200):\n",
    "    epoch_loss = 0\n",
    "    for sentence, target in data:\n",
    "        model.zero_grad()\n",
    "        sentence_vector = make_sentence_vector(sentence, word_dict)  \n",
    "        log_probs = model(sentence_vector)\n",
    "        loss = loss_function(log_probs, torch.tensor([word_dict[target]], dtype=torch.long))\n",
    "        loss.backward()\n",
    "        optimizer.step()\n",
    "        epoch_loss += loss.data\n",
    "    print('Epoch: '+str(epoch)+', Loss: ' + str(epoch_loss.item()))"
   ]
  },
  {
   "cell_type": "code",
   "execution_count": 127,
   "id": "75b5797b",
   "metadata": {},
   "outputs": [],
   "source": [
    "def get_predicted_result(input, inverse_word_dict):\n",
    "    index = np.argmax(input)\n",
    "    return inverse_word_dict[index]\n",
    "\n",
    "def predict_sentence(sentence):\n",
    "    sentence_split = sentence.replace('.','').lower().split()\n",
    "    sentence_vector = make_sentence_vector(sentence_split, word_dict)\n",
    "    prediction_array = model(sentence_vector).data.numpy()\n",
    "    print('Preceding Words: {}\\n'.format(sentence_split[:2]))\n",
    "    print('Predicted Word: {}\\n'.format(get_predicted_result(prediction_array[0], inverse_word_dict)))\n",
    "    print('Following Words: {}\\n'.format(sentence_split[2:]))"
   ]
  },
  {
   "cell_type": "code",
   "execution_count": 128,
   "id": "b79cb876",
   "metadata": {},
   "outputs": [
    {
     "name": "stdout",
     "output_type": "stream",
     "text": [
      "Preceding Words: ['strongest', 'man']\n",
      "\n",
      "Predicted Word: awarded\n",
      "\n",
      "Following Words: ['king']\n",
      "\n"
     ]
    }
   ],
   "source": [
    "predict_sentence(\"Strongest man  king\")"
   ]
  },
  {
   "cell_type": "code",
   "execution_count": 129,
   "id": "c9b048f8",
   "metadata": {},
   "outputs": [
    {
     "name": "stdout",
     "output_type": "stream",
     "text": [
      "tensor([[-0.0481,  0.2025,  0.0156,  1.0803, -0.3396,  0.6403, -0.4125,  1.9292,\n",
      "          1.0593, -2.7998, -1.2552,  0.5306, -0.1322, -0.0720,  0.1839, -0.7774,\n",
      "          1.2836,  1.3239,  0.4051, -0.2077]], grad_fn=<ViewBackward0>)\n"
     ]
    }
   ],
   "source": [
    "print(model.get_word_emdedding('king'))"
   ]
  },
  {
   "cell_type": "code",
   "execution_count": 130,
   "id": "9aaeae68",
   "metadata": {},
   "outputs": [],
   "source": [
    "# Learned W\n",
    "a,b,c,d,_ = model.parameters()\n",
    "#print(W.detach())"
   ]
  },
  {
   "cell_type": "code",
   "execution_count": 131,
   "id": "365f6dab",
   "metadata": {},
   "outputs": [
    {
     "data": {
      "text/plain": [
       "Parameter containing:\n",
       "tensor([[-2.3207e-01,  2.9727e-01,  9.3533e-01, -4.3204e-01, -1.6656e+00,\n",
       "          9.2216e-02, -9.3560e-02, -8.6812e-01, -1.7401e-01,  6.5533e-01,\n",
       "         -2.8164e-01,  9.8210e-01, -1.5182e+00,  1.2059e+00, -8.2326e-01,\n",
       "         -5.0173e-01, -9.7645e-01,  5.1563e-02,  2.2490e-01, -8.5809e-01],\n",
       "        [ 1.7711e-01,  5.4548e-01,  5.9204e-01,  2.1921e-01, -8.5741e-01,\n",
       "          8.6761e-01,  7.5437e-01,  1.4008e+00, -4.6346e-01,  1.9716e+00,\n",
       "         -1.2992e-01, -2.0052e-01,  1.4731e+00,  1.4667e+00, -9.3849e-02,\n",
       "          2.7421e-01, -3.0230e+00, -1.9555e+00, -1.8085e+00, -7.3460e-01],\n",
       "        [ 2.7021e-02, -5.1916e-01, -2.0333e+00,  1.4418e+00, -8.0657e-01,\n",
       "         -7.4981e-01, -1.8927e+00, -5.3023e-01,  4.0377e-01,  8.6832e-01,\n",
       "          1.4865e-02,  1.0550e+00, -2.0185e-01,  3.5015e-01,  2.5411e-02,\n",
       "         -2.9877e-01, -1.0717e+00, -2.0476e-01,  6.0309e-01,  1.6662e+00],\n",
       "        [-1.4948e+00, -1.2762e+00,  1.0246e+00,  7.6316e-01, -9.5577e-01,\n",
       "         -8.5307e-01, -1.0021e+00,  1.4912e-01, -3.3372e-01,  1.0332e+00,\n",
       "          5.8638e-01,  1.1566e+00, -2.5445e+00, -8.4795e-01, -1.3152e-01,\n",
       "          4.5240e-01,  6.9993e-01, -6.2007e-01, -8.1222e-01,  5.4091e-02],\n",
       "        [ 1.1636e+00, -2.3039e-01,  1.4233e+00,  4.3231e-01, -1.3478e+00,\n",
       "         -2.0018e-01,  1.3072e+00,  6.9404e-01,  1.0498e+00, -2.5724e-01,\n",
       "         -5.9899e-01, -2.2497e-01, -6.5462e-01, -1.6002e-01, -8.1735e-01,\n",
       "          1.0371e+00,  1.4072e+00, -1.6543e+00,  6.5434e-01,  1.5424e+00],\n",
       "        [-1.8824e-03,  7.2022e-02,  7.1457e-01, -1.0644e+00, -1.1472e-01,\n",
       "         -4.0535e-01, -1.0526e+00,  1.1743e+00, -1.3947e+00,  8.1856e-01,\n",
       "         -3.6761e-01, -2.6226e-01,  6.8122e-01,  1.9905e+00, -2.1095e-01,\n",
       "         -2.9658e-01,  4.9760e-01,  4.8090e-01,  1.0682e+00,  6.8782e-01],\n",
       "        [ 1.7740e+00, -1.2358e-01,  1.0092e+00,  4.2430e-01,  1.9451e+00,\n",
       "          1.0474e+00, -5.9341e-01, -1.1790e-01,  4.2613e-01,  1.6817e+00,\n",
       "         -3.8684e-02,  1.3592e+00,  1.0110e+00, -1.5805e+00, -1.8028e-01,\n",
       "         -8.0016e-01, -3.5383e-01,  6.4832e-01,  2.5909e-01,  2.5403e-01],\n",
       "        [-2.0833e+00, -4.7926e-01, -3.8044e-01,  8.7629e-01, -1.0852e+00,\n",
       "          7.3052e-01,  1.8621e-01, -1.4366e-01, -3.5096e-02,  5.5606e-01,\n",
       "          2.4615e+00, -7.2251e-02,  9.4361e-01,  1.6308e-01,  7.9218e-01,\n",
       "         -9.5698e-01, -9.2499e-01,  5.8342e-01,  1.5221e+00, -9.9351e-01],\n",
       "        [-3.0374e-01,  4.0933e-01,  6.0944e-01, -2.2456e-01, -8.4103e-03,\n",
       "          1.6193e+00, -6.5917e-01, -1.2236e+00, -9.4615e-01, -1.4985e+00,\n",
       "          1.7835e-01,  8.3904e-01, -1.9696e-01,  1.1312e+00,  1.0879e+00,\n",
       "         -8.6321e-01,  8.9580e-02, -5.7020e-02,  1.6796e+00,  1.0236e+00],\n",
       "        [ 7.5319e-01,  3.1540e-01,  1.0908e+00,  1.4826e-01, -2.6489e-01,\n",
       "          2.2365e+00, -2.3748e-01,  1.3030e+00,  5.2513e-01, -1.8889e+00,\n",
       "          6.7615e-01,  3.4183e-01,  3.6262e-02,  6.0112e-01, -4.8873e-01,\n",
       "          4.7095e-01,  8.9887e-01,  2.4328e-02, -3.6808e-01,  8.3369e-01],\n",
       "        [-4.8065e-02,  2.0245e-01,  1.5611e-02,  1.0803e+00, -3.3965e-01,\n",
       "          6.4025e-01, -4.1246e-01,  1.9292e+00,  1.0593e+00, -2.7998e+00,\n",
       "         -1.2552e+00,  5.3065e-01, -1.3224e-01, -7.1985e-02,  1.8390e-01,\n",
       "         -7.7738e-01,  1.2836e+00,  1.3239e+00,  4.0507e-01, -2.0771e-01],\n",
       "        [-6.2247e-01, -1.4556e+00, -1.1473e+00, -1.6870e-01, -1.4369e+00,\n",
       "         -7.8695e-02,  4.8138e-01, -2.3562e-01, -1.9069e-01,  5.4757e-01,\n",
       "          4.5268e-01, -3.5962e-01, -3.5731e-01,  1.1716e+00, -7.0099e-01,\n",
       "          3.1677e-01, -2.6625e+00, -1.5485e+00, -1.8002e+00, -1.0144e+00],\n",
       "        [-6.1646e-01, -1.4456e+00,  7.0959e-01,  7.3818e-01,  1.0886e+00,\n",
       "         -1.5998e+00,  7.2280e-01,  2.4738e-01,  2.0014e+00,  1.2163e+00,\n",
       "          1.0601e+00, -1.3486e+00,  6.4082e-01,  7.6224e-01,  3.3764e-01,\n",
       "         -4.3814e-01,  1.1858e+00,  4.9514e-01, -1.8018e+00, -1.0650e+00],\n",
       "        [ 6.6594e-01,  8.5729e-01,  1.8046e+00,  1.0253e+00,  1.9666e-01,\n",
       "         -8.1081e-01,  2.1245e-01,  4.4189e-01, -1.1946e+00, -6.2817e-03,\n",
       "          9.9212e-02, -7.0863e-01,  2.7364e+00, -1.5702e-01,  3.8847e-01,\n",
       "          9.9415e-01, -1.8339e-01, -9.7110e-02, -1.1008e+00,  1.1835e+00],\n",
       "        [-2.6595e+00, -2.0545e+00,  7.8308e-01,  5.1594e-01,  6.0251e-01,\n",
       "          9.5572e-01, -1.0365e+00,  1.7649e+00, -1.9121e-01, -1.1159e-01,\n",
       "         -4.3884e-01, -5.0604e-01, -1.2766e-01,  1.4281e-01,  1.1268e+00,\n",
       "          1.4889e-02, -8.5526e-01, -3.9099e-01, -6.9659e-01,  3.7592e-01],\n",
       "        [ 7.8245e-01, -9.2835e-01,  1.2231e+00, -4.2807e-01, -1.3500e+00,\n",
       "         -3.4597e-01, -1.4264e-01, -2.1698e+00,  7.8572e-01, -6.0829e-02,\n",
       "          4.0082e-01, -7.7220e-01, -2.2053e+00,  1.0655e-01,  2.3812e-01,\n",
       "         -1.2711e-02,  2.3076e+00, -1.5956e+00,  3.2921e-04,  5.2667e-01],\n",
       "        [ 7.2003e-01, -6.5753e-01, -3.3004e+00,  1.3435e+00,  7.2453e-01,\n",
       "          8.7325e-01,  3.7056e-01,  1.0949e+00,  1.8837e+00, -1.4428e+00,\n",
       "          3.1163e-01, -4.0420e-01, -3.1738e-01,  9.2376e-01, -9.8562e-01,\n",
       "          5.6813e-01, -6.0435e-01,  7.0935e-01, -2.2467e-01, -2.3870e-01]],\n",
       "       requires_grad=True)"
      ]
     },
     "execution_count": 131,
     "metadata": {},
     "output_type": "execute_result"
    }
   ],
   "source": [
    "a"
   ]
  },
  {
   "cell_type": "code",
   "execution_count": 132,
   "id": "75410006",
   "metadata": {},
   "outputs": [],
   "source": [
    "word_list = list(set(text))\n"
   ]
  },
  {
   "cell_type": "code",
   "execution_count": 133,
   "id": "cb03b942",
   "metadata": {},
   "outputs": [
    {
     "data": {
      "image/png": "[encoded data removed]",
      "text/plain": [
       "<Figure size 640x480 with 1 Axes>"
      ]
     },
     "metadata": {},
     "output_type": "display_data"
    }
   ],
   "source": [
    "import matplotlib.pyplot as plt\n",
    "for i, word in enumerate(word_list):\n",
    "    \n",
    "    W = a.detach()\n",
    "    x,y = float(W[i][0]), float(W[i][1])\n",
    "    plt.scatter(x, y)\n",
    "    plt.annotate(word, xy=(x, y), xytext=(5, 2), textcoords='offset points', ha='right', va='bottom')\n",
    "plt.show()"
   ]
  },
  {
   "cell_type": "code",
   "execution_count": null,
   "id": "d506c96b",
   "metadata": {},
   "outputs": [],
   "source": []
  }
 ],
 "metadata": {
  "kernelspec": {
   "display_name": "Python 3 (ipykernel)",
   "language": "python",
   "name": "python3"
  },
  "language_info": {
   "codemirror_mode": {
    "name": "ipython",
    "version": 3
   },
   "file_extension": ".py",
   "mimetype": "text/x-python",
   "name": "python",
   "nbconvert_exporter": "python",
   "pygments_lexer": "ipython3",
   "version": "3.11.4"
  }
 },
 "nbformat": 4,
 "nbformat_minor": 5
}
