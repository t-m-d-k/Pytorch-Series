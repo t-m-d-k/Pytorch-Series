{
 "cells": [
  {
   "cell_type": "code",
   "execution_count": null,
   "metadata": {},
   "outputs": [
    {
     "name": "stdout",
     "output_type": "stream",
     "text": [
      "Found 9 files belonging to 2 classes.\n",
      "Using 8 files for training.\n",
      "Found 9 files belonging to 2 classes.\n",
      "Using 1 files for validation.\n",
      "Class names: ['babby', 'flower']\n",
      "Epoch 1/10\n"
     ]
    }
   ],
   "source": [
    "import tensorflow as tf\n",
    "from tensorflow.keras.preprocessing import image_dataset_from_directory\n",
    "from tensorflow.keras.preprocessing.image import img_to_array, load_img\n",
    "from tensorflow.keras.applications.vgg16 import preprocess_input\n",
    "from tensorflow.keras.layers import Conv2D, MaxPooling2D, Flatten, Dense, ReLU\n",
    "from tensorflow.keras import Sequential\n",
    "import numpy as np\n",
    "\n",
    "# Define the path to your custom image\n",
    "custom_image_path = r'demo'\n",
    "\n",
    "# Define the image transformation pipeline\n",
    "batch_size = 4\n",
    "img_size = (224, 224)\n",
    "\n",
    "train_dataset = image_dataset_from_directory(\n",
    "    custom_image_path,\n",
    "    validation_split=0.2,\n",
    "    subset=\"training\",\n",
    "    image_size=img_size,\n",
    "    seed = 123,\n",
    "    batch_size=batch_size\n",
    ")\n",
    "\n",
    "val_dataset = image_dataset_from_directory(\n",
    "    custom_image_path,\n",
    "    validation_split=0.2,\n",
    "    subset=\"validation\",\n",
    "    seed = 123,\n",
    "    image_size=img_size,\n",
    "    batch_size=batch_size\n",
    ")\n",
    "\n",
    "# Ensure the dataset labels are correctly mapped\n",
    "class_names = train_dataset.class_names\n",
    "assert len(class_names) == 2, f\"Expected 2 classes but found {len(class_names)} classes.\"\n",
    "\n",
    "print(f\"Class names: {class_names}\")\n",
    "\n",
    "# Build the model\n",
    "model = Sequential([\n",
    "    Conv2D(16, (3, 3), padding='same', input_shape=(224, 224, 3)),\n",
    "    ReLU(),\n",
    "    MaxPooling2D((2, 2)),\n",
    "    Conv2D(32, (3, 3), padding='same'),\n",
    "    ReLU(),\n",
    "    MaxPooling2D((2, 2)),\n",
    "    Flatten(),\n",
    "    Dense(64),\n",
    "    ReLU(),\n",
    "    Dense(2)  # Number of classes\n",
    "])\n",
    "\n",
    "# Compile the model\n",
    "model.compile(optimizer='adam',\n",
    "              loss=tf.keras.losses.SparseCategoricalCrossentropy(from_logits=True),\n",
    "              metrics=['accuracy'])\n",
    "\n",
    "# Training loop\n",
    "num_epochs = 10\n",
    "\n",
    "model.fit(train_dataset, validation_data=val_dataset, epochs=num_epochs)\n",
    "\n"
   ]
  },
  {
   "cell_type": "code",
   "execution_count": null,
   "metadata": {},
   "outputs": [],
   "source": [
    "train_dataset.class_names"
   ]
  },
  {
   "cell_type": "code",
   "execution_count": null,
   "metadata": {},
   "outputs": [],
   "source": [
    "model.save('model_name.h5')"
   ]
  },
  {
   "cell_type": "code",
   "execution_count": null,
   "metadata": {},
   "outputs": [],
   "source": [
    "loaded_model = tf.keras.models.load_model('model_name.h5')"
   ]
  },
  {
   "cell_type": "code",
   "execution_count": null,
   "metadata": {},
   "outputs": [],
   "source": [
    "# Load the image and preprocess it\n",
    "image_path = r\"demo/babby/babby1.jpg\"\n",
    "img = load_img(image_path, target_size=img_size)\n",
    "img_array = img_to_array(img)\n",
    "img_array = np.expand_dims(img_array, axis=0)\n",
    "img_array = preprocess_input(img_array)\n",
    "\n",
    "# Make the prediction\n",
    "predictions = loaded_model.predict(img_array)\n",
    "predicted_class = np.argmax(predictions, axis=1)\n",
    "\n",
    "# Map the predicted index to the class label\n",
    "class_labels = train_dataset.class_names  # Get class names from dataset\n",
    "prediction = class_labels[predicted_class[0]]\n",
    "\n",
    "print(f\"The image is classified as: {prediction}\")\n"
   ]
  }
 ],
 "metadata": {
  "kernelspec": {
   "display_name": "Python 3",
   "language": "python",
   "name": "python3"
  },
  "language_info": {
   "codemirror_mode": {
    "name": "ipython",
    "version": 3
   },
   "file_extension": ".py",
   "mimetype": "text/x-python",
   "name": "python",
   "nbconvert_exporter": "python",
   "pygments_lexer": "ipython3",
   "version": "3.7.6"
  }
 },
 "nbformat": 4,
 "nbformat_minor": 4
}
